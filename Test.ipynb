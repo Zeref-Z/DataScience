{
 "cells": [
  {
   "cell_type": "code",
   "execution_count": 1,
   "id": "e93de3cb-6a46-42a9-8137-66f0451cee86",
   "metadata": {},
   "outputs": [
    {
     "name": "stdout",
     "output_type": "stream",
     "text": [
      "Hello World\n"
     ]
    }
   ],
   "source": [
    "print(\"Hello World\")"
   ]
  },
  {
   "cell_type": "markdown",
   "id": "6adebdfe-0a87-4f4e-9192-4a5279cce650",
   "metadata": {},
   "source": [
    "# Final Project – Data Science Tools"
   ]
  },
  {
   "cell_type": "markdown",
   "id": "5b3c9dd4-2b02-407a-b714-b5023f70f171",
   "metadata": {},
   "source": [
    "This notebook is created for the final assignment of the Data Science Tools course. It includes markdown and code cells as required."
   ]
  },
  {
   "cell_type": "markdown",
   "id": "cf1e68c2-312b-4320-88c3-3e9baa16efc8",
   "metadata": {},
   "source": [
    "## Data Science Languages\n",
    "- Python  \n",
    "- R  \n",
    "- SQL  \n",
    "- Julia  \n",
    "- Scala\n"
   ]
  },
  {
   "cell_type": "markdown",
   "id": "eca7b78c-4c2b-4235-b3a6-e4dfeaa29264",
   "metadata": {},
   "source": [
    "## Data Science Libraries\n",
    "- Pandas  \n",
    "- NumPy  \n",
    "- Matplotlib  \n",
    "- Seaborn  \n",
    "- Scikit-learn  \n",
    "- TensorFlow"
   ]
  },
  {
   "cell_type": "markdown",
   "id": "8e399481-6313-4db2-973f-fb0b6699d446",
   "metadata": {},
   "source": [
    "## Data Science Tools\n",
    "\n",
    "| Tool | Description |\n",
    "|------|-------------|\n",
    "| Jupyter Notebook | Interactive environment |\n",
    "| RStudio | IDE for R |\n",
    "| Apache Spark | Big data processing |\n"
   ]
  },
  {
   "cell_type": "markdown",
   "id": "aeec42bd-1986-4b36-90a6-61c4646f0612",
   "metadata": {},
   "source": [
    "## Arithmetic Expression Examples  \n",
    "Below are examples of basic arithmetic expressions using Python.\n"
   ]
  },
  {
   "cell_type": "markdown",
   "id": "d7ac3509-7914-466f-8b1e-2345b128d56c",
   "metadata": {},
   "source": [
    "## Objectives  \n",
    "- Create markdown cells  \n",
    "- Create code cells  \n",
    "- Practice basic syntax  \n",
    "- Share project on GitHub\n"
   ]
  },
  {
   "cell_type": "markdown",
   "id": "8d13ea78-93e9-4d33-b9b3-282598961f05",
   "metadata": {},
   "source": [
    "**Author:** Ngoc Anh Ta  \n"
   ]
  },
  {
   "cell_type": "code",
   "execution_count": 3,
   "id": "932cc200-522c-4dcc-a8ef-66d647c0c5ad",
   "metadata": {},
   "outputs": [
    {
     "data": {
      "text/plain": [
       "17"
      ]
     },
     "execution_count": 3,
     "metadata": {},
     "output_type": "execute_result"
    }
   ],
   "source": [
    "# Arithmetic operations\n",
    "result = (3 * 4) + 5\n",
    "result\n",
    "\n"
   ]
  },
  {
   "cell_type": "code",
   "execution_count": 4,
   "id": "f72f50ad-2a6a-4b0d-a072-bf490bf80d1c",
   "metadata": {},
   "outputs": [
    {
     "data": {
      "text/plain": [
       "2.0"
      ]
     },
     "execution_count": 4,
     "metadata": {},
     "output_type": "execute_result"
    }
   ],
   "source": [
    "# Convert minutes to hours\n",
    "minutes = 120\n",
    "hours = minutes / 60\n",
    "hours\n"
   ]
  },
  {
   "cell_type": "code",
   "execution_count": null,
   "id": "62e4fd85-efa4-4538-b813-f5508f8533bb",
   "metadata": {},
   "outputs": [],
   "source": []
  }
 ],
 "metadata": {
  "kernelspec": {
   "display_name": "Python 3 (ipykernel)",
   "language": "python",
   "name": "python3"
  },
  "language_info": {
   "codemirror_mode": {
    "name": "ipython",
    "version": 3
   },
   "file_extension": ".py",
   "mimetype": "text/x-python",
   "name": "python",
   "nbconvert_exporter": "python",
   "pygments_lexer": "ipython3",
   "version": "3.13.5"
  }
 },
 "nbformat": 4,
 "nbformat_minor": 5
}
